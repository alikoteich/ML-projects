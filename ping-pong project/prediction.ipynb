{
 "cells": [
  {
   "cell_type": "code",
   "execution_count": 1,
   "id": "f4a80ef1",
   "metadata": {},
   "outputs": [
    {
     "name": "stderr",
     "output_type": "stream",
     "text": [
      "2022-12-22 14:05:10.264952: I tensorflow/core/platform/cpu_feature_guard.cc:193] This TensorFlow binary is optimized with oneAPI Deep Neural Network Library (oneDNN) to use the following CPU instructions in performance-critical operations:  AVX2 AVX_VNNI FMA\n",
      "To enable them in other operations, rebuild TensorFlow with the appropriate compiler flags.\n",
      "2022-12-22 14:05:10.549574: I tensorflow/core/util/port.cc:104] oneDNN custom operations are on. You may see slightly different numerical results due to floating-point round-off errors from different computation orders. To turn them off, set the environment variable `TF_ENABLE_ONEDNN_OPTS=0`.\n",
      "2022-12-22 14:05:10.599320: W tensorflow/compiler/xla/stream_executor/platform/default/dso_loader.cc:64] Could not load dynamic library 'libcudart.so.11.0'; dlerror: libcudart.so.11.0: cannot open shared object file: No such file or directory\n",
      "2022-12-22 14:05:10.599376: I tensorflow/compiler/xla/stream_executor/cuda/cudart_stub.cc:29] Ignore above cudart dlerror if you do not have a GPU set up on your machine.\n",
      "2022-12-22 14:05:11.714076: W tensorflow/compiler/xla/stream_executor/platform/default/dso_loader.cc:64] Could not load dynamic library 'libnvinfer.so.7'; dlerror: libnvinfer.so.7: cannot open shared object file: No such file or directory\n",
      "2022-12-22 14:05:11.714160: W tensorflow/compiler/xla/stream_executor/platform/default/dso_loader.cc:64] Could not load dynamic library 'libnvinfer_plugin.so.7'; dlerror: libnvinfer_plugin.so.7: cannot open shared object file: No such file or directory\n",
      "2022-12-22 14:05:11.714167: W tensorflow/compiler/tf2tensorrt/utils/py_utils.cc:38] TF-TRT Warning: Cannot dlopen some TensorRT libraries. If you would like to use Nvidia GPU with TensorRT, please make sure the missing libraries mentioned above are installed properly.\n"
     ]
    }
   ],
   "source": [
    "import numpy as np\n",
    "import pandas as pd\n",
    "import matplotlib.pyplot as plt\n",
    "import tensorflow as tf\n",
    "%matplotlib inline"
   ]
  },
  {
   "cell_type": "code",
   "execution_count": 2,
   "id": "a58ad44c",
   "metadata": {},
   "outputs": [],
   "source": [
    "def create_array(num,df):\n",
    "    array = []\n",
    "    i = num\n",
    "    for i in range(i,i+10):\n",
    "        array.append(df['aX'].iloc[i])\n",
    "    i = num\n",
    "    for i in range(i,i+10):\n",
    "        array.append(df['aY'].iloc[i])\n",
    "    i = num\n",
    "    for i in range(i,i+10):\n",
    "        array.append(df['aZ'].iloc[i])\n",
    "    i = num\n",
    "    for i in range(i,i+10):\n",
    "        array.append(df['gX'].iloc[i])\n",
    "    i = num\n",
    "    for i in range(i,i+10):\n",
    "        array.append(df['gY'].iloc[i])\n",
    "    i = num\n",
    "    for i in range(i,i+10):\n",
    "        array.append(df['gZ'].iloc[i])\n",
    "    return array"
   ]
  },
  {
   "cell_type": "code",
   "execution_count": 3,
   "id": "474845eb",
   "metadata": {},
   "outputs": [],
   "source": [
    "def fill_data(size,df):\n",
    "    df_new = pd.read_csv('datasets/1x60_d_shots/header.csv')\n",
    "    i=0\n",
    "    j=0\n",
    "    while i <= size:\n",
    "        df_new = pd.DataFrame(np.insert(df_new.values,j,values=create_array(i,df),axis=0))\n",
    "        i = i + 10\n",
    "        j = j+1\n",
    "    return df_new"
   ]
  },
  {
   "cell_type": "code",
   "execution_count": 4,
   "id": "f1326585",
   "metadata": {},
   "outputs": [],
   "source": [
    "def record_capture(capture):\n",
    "    df_test = pd.read_csv('datasets/test_shots/'+capture+'.csv',header=None)\n",
    "    df_test.columns = ['aX','aY','aZ','gX','gY','gZ']\n",
    "    capt = fill_data(len(df_test)-1,df_test)\n",
    "    capt = np.asarray(capt).astype('float32')\n",
    "    \n",
    "    return capt"
   ]
  },
  {
   "cell_type": "code",
   "execution_count": 5,
   "id": "0dd3fc74",
   "metadata": {},
   "outputs": [],
   "source": [
    "def shot_name(result):\n",
    "    shots=[]\n",
    "    for i in range(0,len(result)):\n",
    "        if((result[i][0] == 1) & (result[i][1] == 1) & (result[i][2] == 0)):\n",
    "            shots.append('forehand topspin')\n",
    "        elif((result[i][0] == 0) & (result[i][1] == 1) & (result[i][2] == 0)):\n",
    "             shots.append('backhand topspin')\n",
    "        elif((result[i][0] == 1) & (result[i][1] == 0) & (result[i][2] == 0)):\n",
    "            shots.append('forehand slice')\n",
    "        elif((result[i][0] == 0) & (result[i][1] == 0) & (result[i][2] == 0)):\n",
    "             shots.append('backhand slice')\n",
    "        elif((result[i][2] == 1)):\n",
    "            shots.append('bad form')\n",
    "    return shots"
   ]
  },
  {
   "cell_type": "code",
   "execution_count": 6,
   "id": "1155d007",
   "metadata": {},
   "outputs": [],
   "source": [
    "def game_shots(result):\n",
    "    list=[]\n",
    "    for x in shot_name(result):\n",
    "        list.append(x)\n",
    "    return list"
   ]
  },
  {
   "cell_type": "code",
   "execution_count": 7,
   "id": "bfbab065",
   "metadata": {},
   "outputs": [],
   "source": [
    "def game_stats(game):\n",
    "    ft=fs=bt=bs=bf=0\n",
    "    list=[]\n",
    "    for i in range(0,len(game)):\n",
    "        if(game[i] == 'forehand topspin'):\n",
    "            ft = ft+1\n",
    "        elif(game[i] == 'forehand slice'):\n",
    "            fs = fs+1\n",
    "        elif(game[i] == 'backhand topspin'):\n",
    "            bt = bt+1\n",
    "        elif(game[i] == 'backhand slice'):\n",
    "            bs = bs+1\n",
    "        elif(game[i] == 'bad form'):\n",
    "            bf = bf+1\n",
    "    list.append(ft)\n",
    "    list.append(fs)\n",
    "    list.append(bt)\n",
    "    list.append(bs)\n",
    "    list.append(bf)\n",
    "    return list"
   ]
  },
  {
   "cell_type": "code",
   "execution_count": 8,
   "id": "a97dff03",
   "metadata": {},
   "outputs": [],
   "source": [
    "def dict_game_stats(shots_list):\n",
    "    list = []\n",
    "    list = shots_list\n",
    "    list = game_stats(list)\n",
    "    data = {}\n",
    "    data['forehand topspin']=list[0]\n",
    "    data['forehand slice']=list[1]\n",
    "    data['backhand topspin']=list[2]\n",
    "    data['backhand slice']=list[3]\n",
    "    data['bad form']=list[4]\n",
    "    return data"
   ]
  },
  {
   "cell_type": "code",
   "execution_count": 9,
   "id": "1bfff9f1",
   "metadata": {},
   "outputs": [
    {
     "name": "stderr",
     "output_type": "stream",
     "text": [
      "2022-12-22 14:05:16.795798: W tensorflow/compiler/xla/stream_executor/platform/default/dso_loader.cc:64] Could not load dynamic library 'libcuda.so.1'; dlerror: libcuda.so.1: cannot open shared object file: No such file or directory\n",
      "2022-12-22 14:05:16.796050: W tensorflow/compiler/xla/stream_executor/cuda/cuda_driver.cc:265] failed call to cuInit: UNKNOWN ERROR (303)\n",
      "2022-12-22 14:05:16.796083: I tensorflow/compiler/xla/stream_executor/cuda/cuda_diagnostics.cc:156] kernel driver does not appear to be running on this host (ali-Inspiron-15-3520): /proc/driver/nvidia/version does not exist\n",
      "2022-12-22 14:05:16.797134: I tensorflow/core/platform/cpu_feature_guard.cc:193] This TensorFlow binary is optimized with oneAPI Deep Neural Network Library (oneDNN) to use the following CPU instructions in performance-critical operations:  AVX2 AVX_VNNI FMA\n",
      "To enable them in other operations, rebuild TensorFlow with the appropriate compiler flags.\n"
     ]
    }
   ],
   "source": [
    "model = tf.keras.models.load_model('models/tt_project.h5')"
   ]
  },
  {
   "cell_type": "code",
   "execution_count": 12,
   "id": "5e62e9c7",
   "metadata": {},
   "outputs": [
    {
     "name": "stdout",
     "output_type": "stream",
     "text": [
      "Running on local URL:  http://127.0.0.1:7860\n",
      "\n",
      "To create a public link, set `share=True` in `launch()`.\n"
     ]
    },
    {
     "data": {
      "text/html": [
       "<div><iframe src=\"http://127.0.0.1:7860/\" width=\"100%\" height=\"500\" allow=\"autoplay; camera; microphone; clipboard-read; clipboard-write;\" frameborder=\"0\" allowfullscreen></iframe></div>"
      ],
      "text/plain": [
       "<IPython.core.display.HTML object>"
      ]
     },
     "metadata": {},
     "output_type": "display_data"
    },
    {
     "data": {
      "text/plain": []
     },
     "execution_count": 12,
     "metadata": {},
     "output_type": "execute_result"
    },
    {
     "name": "stderr",
     "output_type": "stream",
     "text": [
      "Traceback (most recent call last):\n",
      "  File \"/home/ali/anaconda3/lib/python3.9/site-packages/gradio/routes.py\", line 321, in run_predict\n",
      "    output = await app.blocks.process_api(\n",
      "  File \"/home/ali/anaconda3/lib/python3.9/site-packages/gradio/blocks.py\", line 1015, in process_api\n",
      "    result = await self.call_function(fn_index, inputs, iterator, request)\n",
      "  File \"/home/ali/anaconda3/lib/python3.9/site-packages/gradio/blocks.py\", line 856, in call_function\n",
      "    prediction = await anyio.to_thread.run_sync(\n",
      "  File \"/home/ali/anaconda3/lib/python3.9/site-packages/anyio/to_thread.py\", line 28, in run_sync\n",
      "    return await get_asynclib().run_sync_in_worker_thread(func, *args, cancellable=cancellable,\n",
      "  File \"/home/ali/anaconda3/lib/python3.9/site-packages/anyio/_backends/_asyncio.py\", line 818, in run_sync_in_worker_thread\n",
      "    return await future\n",
      "  File \"/home/ali/anaconda3/lib/python3.9/site-packages/anyio/_backends/_asyncio.py\", line 754, in run\n",
      "    result = context.run(func, *args)\n",
      "  File \"/tmp/ipykernel_159333/3412432397.py\", line 4, in greet\n",
      "    capture = record_capture(file_name)\n",
      "  File \"/tmp/ipykernel_159333/2620567199.py\", line 2, in record_capture\n",
      "    df_test = pd.read_csv('datasets/test_shots/'+capture+'.csv',header=None)\n",
      "  File \"/home/ali/anaconda3/lib/python3.9/site-packages/pandas/util/_decorators.py\", line 311, in wrapper\n",
      "    return func(*args, **kwargs)\n",
      "  File \"/home/ali/anaconda3/lib/python3.9/site-packages/pandas/io/parsers/readers.py\", line 678, in read_csv\n",
      "    return _read(filepath_or_buffer, kwds)\n",
      "  File \"/home/ali/anaconda3/lib/python3.9/site-packages/pandas/io/parsers/readers.py\", line 575, in _read\n",
      "    parser = TextFileReader(filepath_or_buffer, **kwds)\n",
      "  File \"/home/ali/anaconda3/lib/python3.9/site-packages/pandas/io/parsers/readers.py\", line 932, in __init__\n",
      "    self._engine = self._make_engine(f, self.engine)\n",
      "  File \"/home/ali/anaconda3/lib/python3.9/site-packages/pandas/io/parsers/readers.py\", line 1216, in _make_engine\n",
      "    self.handles = get_handle(  # type: ignore[call-overload]\n",
      "  File \"/home/ali/anaconda3/lib/python3.9/site-packages/pandas/io/common.py\", line 786, in get_handle\n",
      "    handle = open(\n",
      "FileNotFoundError: [Errno 2] No such file or directory: 'datasets/test_shots/test10.csv'\n"
     ]
    },
    {
     "name": "stdout",
     "output_type": "stream",
     "text": [
      "1/1 [==============================] - 0s 175ms/step\n",
      "1/1 [==============================] - 0s 29ms/step\n"
     ]
    }
   ],
   "source": [
    "import gradio as gr\n",
    "def greet(file_name):\n",
    "    \n",
    "    capture = record_capture(file_name)\n",
    "    result = model.predict(capture)\n",
    "    result = np.rint(result)\n",
    "    data = dict_game_stats(game_shots(result))\n",
    "    myplot = plt.figure(figsize=(9,4))\n",
    "    plt.bar(data.keys(), data.values())\n",
    "    return myplot,pd.DataFrame(shot_name(result))\n",
    "iface = gr.Interface(fn=greet, inputs=\"text\", outputs=[\"plot\",\"dataframe\"])\n",
    "iface.launch()"
   ]
  },
  {
   "cell_type": "code",
   "execution_count": 11,
   "id": "32f25991",
   "metadata": {},
   "outputs": [
    {
     "name": "stdout",
     "output_type": "stream",
     "text": [
      "Collecting gradio\n",
      "  Downloading gradio-3.15.0-py3-none-any.whl (13.8 MB)\n",
      "\u001b[2K     \u001b[38;2;114;156;31m━━━━━━━━━━━━━━━━━━━━━━━━━━━━━━━━━━━━━━━\u001b[0m \u001b[32m13.8/13.8 MB\u001b[0m \u001b[31m331.6 kB/s\u001b[0m eta \u001b[36m0:00:00\u001b[0mm eta \u001b[36m0:00:01\u001b[0m[36m0:00:02\u001b[0m\n",
      "\u001b[?25hCollecting httpx\n",
      "  Downloading httpx-0.23.1-py3-none-any.whl (84 kB)\n",
      "\u001b[2K     \u001b[38;2;114;156;31m━━━━━━━━━━━━━━━━━━━━━━━━━━━━━━━━━━━━━━━\u001b[0m \u001b[32m85.0/85.0 kB\u001b[0m \u001b[31m656.4 kB/s\u001b[0m eta \u001b[36m0:00:00\u001b[0m kB/s\u001b[0m eta \u001b[36m0:00:01\u001b[0m\n",
      "\u001b[?25hCollecting python-multipart\n",
      "  Downloading python-multipart-0.0.5.tar.gz (32 kB)\n",
      "  Preparing metadata (setup.py) ... \u001b[?25ldone\n",
      "\u001b[?25hRequirement already satisfied: pyyaml in /home/ali/anaconda3/lib/python3.9/site-packages (from gradio) (6.0)\n",
      "Requirement already satisfied: matplotlib in /home/ali/anaconda3/lib/python3.9/site-packages (from gradio) (3.5.2)\n",
      "Collecting altair>=4.2.0\n",
      "  Downloading altair-4.2.0-py3-none-any.whl (812 kB)\n",
      "\u001b[2K     \u001b[38;2;114;156;31m━━━━━━━━━━━━━━━━━━━━━━━━━━━━━━━━━━━━━\u001b[0m \u001b[32m812.8/812.8 kB\u001b[0m \u001b[31m351.1 kB/s\u001b[0m eta \u001b[36m0:00:00\u001b[0m[36m0:00:01\u001b[0m[36m0:00:01\u001b[0m:01\u001b[0m\n",
      "\u001b[?25hCollecting aiohttp\n",
      "  Downloading aiohttp-3.8.3-cp39-cp39-manylinux_2_17_x86_64.manylinux2014_x86_64.whl (1.0 MB)\n",
      "\u001b[2K     \u001b[38;2;114;156;31m━━━━━━━━━━━━━━━━━━━━━━━━━━━━━━━━━━━━━━━━\u001b[0m \u001b[32m1.0/1.0 MB\u001b[0m \u001b[31m371.6 kB/s\u001b[0m eta \u001b[36m0:00:00\u001b[0mm eta \u001b[36m0:00:01\u001b[0m[36m0:00:01\u001b[0m\n",
      "\u001b[?25hCollecting uvicorn\n",
      "  Downloading uvicorn-0.20.0-py3-none-any.whl (56 kB)\n",
      "\u001b[2K     \u001b[38;2;114;156;31m━━━━━━━━━━━━━━━━━━━━━━━━━━━━━━━━━━━━━━━\u001b[0m \u001b[32m56.9/56.9 kB\u001b[0m \u001b[31m629.3 kB/s\u001b[0m eta \u001b[36m0:00:00\u001b[0m kB/s\u001b[0m eta \u001b[36m0:00:01\u001b[0m\n",
      "\u001b[?25hRequirement already satisfied: requests in /home/ali/anaconda3/lib/python3.9/site-packages (from gradio) (2.28.1)\n",
      "Collecting pydantic\n",
      "  Downloading pydantic-1.10.2-cp39-cp39-manylinux_2_17_x86_64.manylinux2014_x86_64.whl (13.2 MB)\n",
      "\u001b[2K     \u001b[38;2;114;156;31m━━━━━━━━━━━━━━━━━━━━━━━━━━━━━━━━━━━━━━━\u001b[0m \u001b[32m13.2/13.2 MB\u001b[0m \u001b[31m349.5 kB/s\u001b[0m eta \u001b[36m0:00:00\u001b[0mm eta \u001b[36m0:00:01\u001b[0m[36m0:00:01\u001b[0m\n",
      "\u001b[?25hRequirement already satisfied: fsspec in /home/ali/anaconda3/lib/python3.9/site-packages (from gradio) (2022.7.1)\n",
      "Requirement already satisfied: pillow in /home/ali/anaconda3/lib/python3.9/site-packages (from gradio) (9.2.0)\n",
      "Collecting ffmpy\n",
      "  Downloading ffmpy-0.3.0.tar.gz (4.8 kB)\n",
      "  Preparing metadata (setup.py) ... \u001b[?25ldone\n",
      "\u001b[?25hRequirement already satisfied: pandas in /home/ali/anaconda3/lib/python3.9/site-packages (from gradio) (1.4.4)\n",
      "Collecting fastapi\n",
      "  Downloading fastapi-0.88.0-py3-none-any.whl (55 kB)\n",
      "\u001b[2K     \u001b[38;2;114;156;31m━━━━━━━━━━━━━━━━━━━━━━━━━━━━━━━━━━━━━━━\u001b[0m \u001b[32m55.5/55.5 kB\u001b[0m \u001b[31m639.1 kB/s\u001b[0m eta \u001b[36m0:00:00\u001b[0m1m665.4 kB/s\u001b[0m eta \u001b[36m0:00:01\u001b[0m\n",
      "\u001b[?25hCollecting pycryptodome\n",
      "  Downloading pycryptodome-3.16.0-cp35-abi3-manylinux_2_5_x86_64.manylinux1_x86_64.manylinux_2_12_x86_64.manylinux2010_x86_64.whl (2.3 MB)\n",
      "\u001b[2K     \u001b[38;2;114;156;31m━━━━━━━━━━━━━━━━━━━━━━━━━━━━━━━━━━━━━━━━\u001b[0m \u001b[32m2.3/2.3 MB\u001b[0m \u001b[31m358.7 kB/s\u001b[0m eta \u001b[36m0:00:00\u001b[0mm eta \u001b[36m0:00:01\u001b[0m[36m0:00:01\u001b[0m\n",
      "\u001b[?25hCollecting markdown-it-py[linkify,plugins]\n",
      "  Downloading markdown_it_py-2.1.0-py3-none-any.whl (84 kB)\n",
      "\u001b[2K     \u001b[38;2;114;156;31m━━━━━━━━━━━━━━━━━━━━━━━━━━━━━━━━━━━━━━━\u001b[0m \u001b[32m84.5/84.5 kB\u001b[0m \u001b[31m623.0 kB/s\u001b[0m eta \u001b[36m0:00:00\u001b[0m1m698.7 kB/s\u001b[0m eta \u001b[36m0:00:01\u001b[0m\n",
      "\u001b[?25hRequirement already satisfied: markupsafe in /home/ali/anaconda3/lib/python3.9/site-packages (from gradio) (2.0.1)\n",
      "Collecting pydub\n",
      "  Downloading pydub-0.25.1-py2.py3-none-any.whl (32 kB)\n",
      "Requirement already satisfied: numpy in /home/ali/anaconda3/lib/python3.9/site-packages (from gradio) (1.21.5)\n",
      "Collecting websockets>=10.0\n",
      "  Downloading websockets-10.4-cp39-cp39-manylinux_2_5_x86_64.manylinux1_x86_64.manylinux_2_17_x86_64.manylinux2014_x86_64.whl (106 kB)\n",
      "\u001b[2K     \u001b[38;2;114;156;31m━━━━━━━━━━━━━━━━━━━━━━━━━━━━━━━━━━━━━\u001b[0m \u001b[32m106.5/106.5 kB\u001b[0m \u001b[31m514.2 kB/s\u001b[0m eta \u001b[36m0:00:00\u001b[0m1m523.1 kB/s\u001b[0m eta \u001b[36m0:00:01\u001b[0m\n",
      "\u001b[?25hRequirement already satisfied: jinja2 in /home/ali/anaconda3/lib/python3.9/site-packages (from gradio) (2.11.3)\n",
      "Collecting orjson\n",
      "  Downloading orjson-3.8.3-cp39-cp39-manylinux_2_28_x86_64.whl (144 kB)\n",
      "\u001b[2K     \u001b[38;2;114;156;31m━━━━━━━━━━━━━━━━━━━━━━━━━━━━━━━━━━━━━\u001b[0m \u001b[32m144.9/144.9 kB\u001b[0m \u001b[31m480.6 kB/s\u001b[0m eta \u001b[36m0:00:00\u001b[0mm eta \u001b[36m0:00:01\u001b[0m0:01\u001b[0m:01\u001b[0m\n",
      "\u001b[?25hRequirement already satisfied: entrypoints in /home/ali/anaconda3/lib/python3.9/site-packages (from altair>=4.2.0->gradio) (0.4)\n",
      "Requirement already satisfied: jsonschema>=3.0 in /home/ali/anaconda3/lib/python3.9/site-packages (from altair>=4.2.0->gradio) (4.16.0)\n",
      "Requirement already satisfied: toolz in /home/ali/anaconda3/lib/python3.9/site-packages (from altair>=4.2.0->gradio) (0.11.2)\n",
      "Requirement already satisfied: python-dateutil>=2.8.1 in /home/ali/anaconda3/lib/python3.9/site-packages (from pandas->gradio) (2.8.2)\n",
      "Requirement already satisfied: pytz>=2020.1 in /home/ali/anaconda3/lib/python3.9/site-packages (from pandas->gradio) (2022.1)\n",
      "Collecting multidict<7.0,>=4.5\n",
      "  Downloading multidict-6.0.3-cp39-cp39-manylinux_2_17_x86_64.manylinux2014_x86_64.whl (114 kB)\n",
      "\u001b[2K     \u001b[38;2;114;156;31m━━━━━━━━━━━━━━━━━━━━━━━━━━━━━━━━━━━━━\u001b[0m \u001b[32m114.2/114.2 kB\u001b[0m \u001b[31m544.1 kB/s\u001b[0m eta \u001b[36m0:00:00\u001b[0m1m581.5 kB/s\u001b[0m eta \u001b[36m0:00:01\u001b[0m\n",
      "\u001b[?25hCollecting yarl<2.0,>=1.0\n",
      "  Downloading yarl-1.8.2-cp39-cp39-manylinux_2_17_x86_64.manylinux2014_x86_64.whl (264 kB)\n",
      "\u001b[2K     \u001b[38;2;114;156;31m━━━━━━━━━━━━━━━━━━━━━━━━━━━━━━━━━━━━━\u001b[0m \u001b[32m264.6/264.6 kB\u001b[0m \u001b[31m409.8 kB/s\u001b[0m eta \u001b[36m0:00:00\u001b[0m1m395.2 kB/s\u001b[0m eta \u001b[36m0:00:01\u001b[0m\n",
      "\u001b[?25hCollecting aiosignal>=1.1.2\n",
      "  Downloading aiosignal-1.3.1-py3-none-any.whl (7.6 kB)\n",
      "Collecting async-timeout<5.0,>=4.0.0a3\n",
      "  Downloading async_timeout-4.0.2-py3-none-any.whl (5.8 kB)\n",
      "Collecting frozenlist>=1.1.1\n",
      "  Downloading frozenlist-1.3.3-cp39-cp39-manylinux_2_5_x86_64.manylinux1_x86_64.manylinux_2_17_x86_64.manylinux2014_x86_64.whl (158 kB)\n",
      "\u001b[2K     \u001b[38;2;114;156;31m━━━━━━━━━━━━━━━━━━━━━━━━━━━━━━━━━━━━━\u001b[0m \u001b[32m158.8/158.8 kB\u001b[0m \u001b[31m452.2 kB/s\u001b[0m eta \u001b[36m0:00:00\u001b[0m kB/s\u001b[0m eta \u001b[36m0:00:01\u001b[0m:01\u001b[0m\n",
      "\u001b[?25hRequirement already satisfied: attrs>=17.3.0 in /home/ali/anaconda3/lib/python3.9/site-packages (from aiohttp->gradio) (21.4.0)\n",
      "Requirement already satisfied: charset-normalizer<3.0,>=2.0 in /home/ali/anaconda3/lib/python3.9/site-packages (from aiohttp->gradio) (2.0.4)\n",
      "Collecting starlette==0.22.0\n",
      "  Downloading starlette-0.22.0-py3-none-any.whl (64 kB)\n",
      "\u001b[2K     \u001b[38;2;114;156;31m━━━━━━━━━━━━━━━━━━━━━━━━━━━━━━━━━━━━━━━\u001b[0m \u001b[32m64.3/64.3 kB\u001b[0m \u001b[31m627.2 kB/s\u001b[0m eta \u001b[36m0:00:00\u001b[0m kB/s\u001b[0m eta \u001b[36m0:00:01\u001b[0m:01\u001b[0m\n",
      "\u001b[?25hRequirement already satisfied: anyio<5,>=3.4.0 in /home/ali/anaconda3/lib/python3.9/site-packages (from starlette==0.22.0->fastapi->gradio) (3.5.0)\n",
      "Requirement already satisfied: typing-extensions>=3.10.0 in /home/ali/anaconda3/lib/python3.9/site-packages (from starlette==0.22.0->fastapi->gradio) (4.3.0)\n",
      "Requirement already satisfied: certifi in /home/ali/anaconda3/lib/python3.9/site-packages (from httpx->gradio) (2022.9.14)\n",
      "Collecting httpcore<0.17.0,>=0.15.0\n",
      "  Downloading httpcore-0.16.3-py3-none-any.whl (69 kB)\n",
      "\u001b[2K     \u001b[38;2;114;156;31m━━━━━━━━━━━━━━━━━━━━━━━━━━━━━━━━━━━━━━━\u001b[0m \u001b[32m69.6/69.6 kB\u001b[0m \u001b[31m681.2 kB/s\u001b[0m eta \u001b[36m0:00:00\u001b[0m1m827.8 kB/s\u001b[0m eta \u001b[36m0:00:01\u001b[0m\n",
      "\u001b[?25hCollecting rfc3986[idna2008]<2,>=1.3\n",
      "  Downloading rfc3986-1.5.0-py2.py3-none-any.whl (31 kB)\n",
      "Requirement already satisfied: sniffio in /home/ali/anaconda3/lib/python3.9/site-packages (from httpx->gradio) (1.2.0)\n",
      "Collecting mdurl~=0.1\n",
      "  Downloading mdurl-0.1.2-py3-none-any.whl (10.0 kB)\n",
      "Collecting linkify-it-py~=1.0\n",
      "  Downloading linkify_it_py-1.0.3-py3-none-any.whl (19 kB)\n",
      "Collecting mdit-py-plugins\n",
      "  Downloading mdit_py_plugins-0.3.3-py3-none-any.whl (50 kB)\n",
      "\u001b[2K     \u001b[38;2;114;156;31m━━━━━━━━━━━━━━━━━━━━━━━━━━━━━━━━━━━━━━━━\u001b[0m \u001b[32m50.5/50.5 kB\u001b[0m \u001b[31m1.1 MB/s\u001b[0m eta \u001b[36m0:00:00\u001b[0m MB/s\u001b[0m eta \u001b[36m0:00:01\u001b[0m\n",
      "\u001b[?25hRequirement already satisfied: cycler>=0.10 in /home/ali/anaconda3/lib/python3.9/site-packages (from matplotlib->gradio) (0.11.0)\n",
      "Requirement already satisfied: kiwisolver>=1.0.1 in /home/ali/anaconda3/lib/python3.9/site-packages (from matplotlib->gradio) (1.4.2)\n",
      "Requirement already satisfied: pyparsing>=2.2.1 in /home/ali/anaconda3/lib/python3.9/site-packages (from matplotlib->gradio) (3.0.9)\n",
      "Requirement already satisfied: packaging>=20.0 in /home/ali/anaconda3/lib/python3.9/site-packages (from matplotlib->gradio) (21.3)\n",
      "Requirement already satisfied: fonttools>=4.22.0 in /home/ali/anaconda3/lib/python3.9/site-packages (from matplotlib->gradio) (4.25.0)\n",
      "Requirement already satisfied: six>=1.4.0 in /home/ali/anaconda3/lib/python3.9/site-packages (from python-multipart->gradio) (1.16.0)\n",
      "Requirement already satisfied: idna<4,>=2.5 in /home/ali/anaconda3/lib/python3.9/site-packages (from requests->gradio) (3.3)\n",
      "Requirement already satisfied: urllib3<1.27,>=1.21.1 in /home/ali/anaconda3/lib/python3.9/site-packages (from requests->gradio) (1.26.11)\n",
      "Requirement already satisfied: click>=7.0 in /home/ali/anaconda3/lib/python3.9/site-packages (from uvicorn->gradio) (8.0.4)\n"
     ]
    },
    {
     "name": "stdout",
     "output_type": "stream",
     "text": [
      "Collecting h11>=0.8\n",
      "  Downloading h11-0.14.0-py3-none-any.whl (58 kB)\n",
      "\u001b[2K     \u001b[38;2;114;156;31m━━━━━━━━━━━━━━━━━━━━━━━━━━━━━━━━━━━━━━━━\u001b[0m \u001b[32m58.3/58.3 kB\u001b[0m \u001b[31m1.3 MB/s\u001b[0m eta \u001b[36m0:00:00\u001b[0m0 MB/s\u001b[0m eta \u001b[36m0:00:01\u001b[0m\n",
      "\u001b[?25hRequirement already satisfied: pyrsistent!=0.17.0,!=0.17.1,!=0.17.2,>=0.14.0 in /home/ali/anaconda3/lib/python3.9/site-packages (from jsonschema>=3.0->altair>=4.2.0->gradio) (0.18.0)\n",
      "Collecting uc-micro-py\n",
      "  Downloading uc_micro_py-1.0.1-py3-none-any.whl (6.2 kB)\n",
      "Building wheels for collected packages: ffmpy, python-multipart\n",
      "  Building wheel for ffmpy (setup.py) ... \u001b[?25ldone\n",
      "\u001b[?25h  Created wheel for ffmpy: filename=ffmpy-0.3.0-py3-none-any.whl size=4693 sha256=254421453c23a06fae4b06814aa5a53216830710191cecc70a93699c5ae77de4\n",
      "  Stored in directory: /home/ali/.cache/pip/wheels/91/e2/96/f676aa08bfd789328c6576cd0f1fde4a3d686703bb0c247697\n",
      "  Building wheel for python-multipart (setup.py) ... \u001b[?25ldone\n",
      "\u001b[?25h  Created wheel for python-multipart: filename=python_multipart-0.0.5-py3-none-any.whl size=31671 sha256=742576a0d1caa557610e2997cf7e8c68729866f219246c21fef59f993108006e\n",
      "  Stored in directory: /home/ali/.cache/pip/wheels/fe/04/d1/a10661cc45f03c3cecda50deb2d2c22f57b4e84a75b2a5987e\n",
      "Successfully built ffmpy python-multipart\n",
      "Installing collected packages: rfc3986, pydub, ffmpy, websockets, uc-micro-py, python-multipart, pydantic, pycryptodome, orjson, multidict, mdurl, h11, frozenlist, async-timeout, yarl, uvicorn, starlette, markdown-it-py, linkify-it-py, httpcore, aiosignal, mdit-py-plugins, httpx, fastapi, altair, aiohttp, gradio\n",
      "Successfully installed aiohttp-3.8.3 aiosignal-1.3.1 altair-4.2.0 async-timeout-4.0.2 fastapi-0.88.0 ffmpy-0.3.0 frozenlist-1.3.3 gradio-3.15.0 h11-0.14.0 httpcore-0.16.3 httpx-0.23.1 linkify-it-py-1.0.3 markdown-it-py-2.1.0 mdit-py-plugins-0.3.3 mdurl-0.1.2 multidict-6.0.3 orjson-3.8.3 pycryptodome-3.16.0 pydantic-1.10.2 pydub-0.25.1 python-multipart-0.0.5 rfc3986-1.5.0 starlette-0.22.0 uc-micro-py-1.0.1 uvicorn-0.20.0 websockets-10.4 yarl-1.8.2\n",
      "Note: you may need to restart the kernel to use updated packages.\n"
     ]
    }
   ],
   "source": [
    "pip install gradio"
   ]
  },
  {
   "cell_type": "code",
   "execution_count": null,
   "id": "5b74c9ba",
   "metadata": {},
   "outputs": [],
   "source": []
  }
 ],
 "metadata": {
  "kernelspec": {
   "display_name": "Python 3 (ipykernel)",
   "language": "python",
   "name": "python3"
  },
  "language_info": {
   "codemirror_mode": {
    "name": "ipython",
    "version": 3
   },
   "file_extension": ".py",
   "mimetype": "text/x-python",
   "name": "python",
   "nbconvert_exporter": "python",
   "pygments_lexer": "ipython3",
   "version": "3.9.13"
  }
 },
 "nbformat": 4,
 "nbformat_minor": 5
}
